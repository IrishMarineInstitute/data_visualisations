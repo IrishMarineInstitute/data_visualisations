{
 "cells": [
  {
   "cell_type": "code",
   "execution_count": null,
   "id": "c8640577",
   "metadata": {},
   "outputs": [],
   "source": [
    "import pandas as pd\n",
    "import matplotlib.pyplot as plt\n",
    "import seaborn as sns"
   ]
  },
  {
   "cell_type": "code",
   "execution_count": null,
   "id": "e3d0a007",
   "metadata": {},
   "outputs": [],
   "source": [
    "# IWB temp data from online source\n",
    "weatherbuoy_df = pd.read_csv('https://erddap.marine.ie/erddap/tabledap/IWBNetwork.csvp?station_id%2Ctime%2CAtmosphericPressure%2CWindDirection%2CWindSpeed%2CWaveHeight%2CWavePeriod%2CSeaTemperature%2Csalinity')\n",
    "\n",
    "# from local source\n",
    "# weatherbuoy_df = pd.read_csv('data\\IWBNetwork_archive.csv')\n",
    "weatherbuoy_df['time (UTC)'] = pd.to_datetime(weatherbuoy_df['time (UTC)'])\n",
    "weatherbuoy_df['year'] = weatherbuoy_df['time (UTC)'].dt.year\n",
    "weatherbuoy_df['month'] = weatherbuoy_df['time (UTC)'].dt.month\n",
    "weatherbuoy_df['day'] = weatherbuoy_df['time (UTC)'].dt.day\n",
    "weatherbuoy_df['mean_yr_station'] = weatherbuoy_df.groupby(['year', 'station_id'])[\n",
    "    \"SeaTemperature (degrees_C)\"].transform('mean')\n",
    "weatherbuoy_df['min_yr_station'] = weatherbuoy_df.groupby(['year', 'station_id'])[\n",
    "    \"SeaTemperature (degrees_C)\"].transform('min')\n",
    "weatherbuoy_df['max_yr_station'] = weatherbuoy_df.groupby(['year', 'station_id'])[\n",
    "    \"SeaTemperature (degrees_C)\"].transform('max')\n",
    "# convert number months to the text months for easier display\n",
    "weatherbuoy_df['months'] = weatherbuoy_df['time (UTC)'].dt.strftime('%b')"
   ]
  },
  {
   "cell_type": "code",
   "execution_count": null,
   "id": "ff118e83",
   "metadata": {},
   "outputs": [],
   "source": [
    "filtered_weatherbuoy = weatherbuoy_df[weatherbuoy_df['station_id'].isin(['M1', 'M2', 'M3', 'M4', 'M5', 'M6'])]\n",
    "# filter for anything greater than 0 as it looks like there is an outlier with a value of 0\n",
    "filtered_weatherbuoy = filtered_weatherbuoy[filtered_weatherbuoy['SeaTemperature (degrees_C)'] > 0]"
   ]
  },
  {
   "cell_type": "code",
   "execution_count": null,
   "id": "4fc94634",
   "metadata": {},
   "outputs": [],
   "source": [
    "plt.figure(figsize=(16,10))\n",
    "# Theme\n",
    "sns.set_theme(style=\"dark\", rc={\"axes.facecolor\": (0, 0, 0, 0), 'axes.linewidth':0})\n",
    "# palette = sns.color_palette(\"Plasma\", 12) \n",
    "# create a grid with a row for each 'month'\n",
    "g = sns.FacetGrid(filtered_weatherbuoy, \n",
    "                  palette='inferno',\n",
    "                  row=\"months\", \n",
    "                  hue=\"months\", \n",
    "                  row_order=['Jan', 'Feb', 'Mar', 'Apr', 'May', 'Jun', 'Jul', 'Aug', 'Sep', 'Oct', 'Nov', 'Dec'],\n",
    "                  aspect=9, \n",
    "                  height=0.8) \n",
    "g.map_dataframe(sns.kdeplot, \n",
    "                x=\"SeaTemperature (degrees_C)\", \n",
    "                cmap='plasma',\n",
    "                fill=True, alpha=1)\n",
    "\n",
    "def label(x, color, label):\n",
    "    ax = plt.gca() #get current axis\n",
    "    ax.text(0, .2, label, color='black', fontsize=13,\n",
    "    ha=\"left\", va=\"center\", transform=ax.transAxes)\n",
    "    \n",
    "# iterate grid to plot labels\n",
    "g.map(label, \"months\")\n",
    "# adjust subplots to create overlap\n",
    "g.fig.subplots_adjust(hspace=-.3) \n",
    "# remove subplot titles\n",
    "g.set_titles(\"\") \n",
    "# remove yticks and labels and set xlabel\n",
    "g.set(yticks=[], ylabel=\"\", xlabel=\"Sea Temperature (degrees Celcius)\")\n",
    "# remove left spine\n",
    "g.despine(left=True)\n",
    "# set title\n",
    "plt.suptitle('Distribution of Sea Temperatures around the Irish Coast', y=0.98)\n",
    "plt.savefig('../content/sea_temp_ridgeplot.png')"
   ]
  },
  {
   "cell_type": "code",
   "execution_count": null,
   "id": "0338918d",
   "metadata": {},
   "outputs": [],
   "source": []
  }
 ],
 "metadata": {
  "kernelspec": {
   "display_name": "Python 3 (ipykernel)",
   "language": "python",
   "name": "python3"
  },
  "language_info": {
   "codemirror_mode": {
    "name": "ipython",
    "version": 3
   },
   "file_extension": ".py",
   "mimetype": "text/x-python",
   "name": "python",
   "nbconvert_exporter": "python",
   "pygments_lexer": "ipython3",
   "version": "3.8.0"
  }
 },
 "nbformat": 4,
 "nbformat_minor": 5
}
