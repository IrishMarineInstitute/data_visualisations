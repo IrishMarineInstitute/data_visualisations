{
 "cells": [
  {
   "cell_type": "code",
   "execution_count": null,
   "id": "4dfd9e43",
   "metadata": {},
   "outputs": [],
   "source": [
    "import pandas as pd\n",
    "import plotly.express as px"
   ]
  },
  {
   "cell_type": "code",
   "execution_count": null,
   "id": "ffe1623f",
   "metadata": {},
   "outputs": [],
   "source": [
    "# IWB temp data from online source\n",
    "weatherbuoy_df = pd.read_csv('https://erddap.marine.ie/erddap/tabledap/IWBNetwork.csvp?station_id%2Ctime%2CAtmosphericPressure%2CWindDirection%2CWindSpeed%2CWaveHeight%2CWavePeriod%2CSeaTemperature%2Csalinity')\n",
    "weatherbuoy_df['time (UTC)'] = pd.to_datetime(weatherbuoy_df['time (UTC)'])\n",
    "\n",
    "# Filter for just 1 weather buoy\n",
    "# m5 = Celtic Sea\n",
    "m5_df = weatherbuoy_df[(weatherbuoy_df.station_id == 'M5')]"
   ]
  },
  {
   "cell_type": "code",
   "execution_count": null,
   "id": "c4727bad",
   "metadata": {},
   "outputs": [],
   "source": [
    "# Define the wind directions\n",
    "bins_dir = [0, 11.25, 33.75, 56.25, 78.75,101.25,123.75,146.25,168.75,191.25,213.75,236.25,258.75,281.25,303.75,326.25,348.75, 360.00]\n",
    "bins_dir_labels = ['N','NNE','NE','ENE','E','ESE','SE','SSE','S','SSW','SW','WSW','W','WNW','NW','NNW','North']\n",
    "\n",
    "# categorise wind speed\n",
    "m5_df['Wind Speed Category (knots)'] = pd.cut(m5_df['WindSpeed (knots)'], \n",
    "                                              bins=[0, 4, 8, 12, 16, 20, 24, 1000], \n",
    "                                              include_lowest=True, \n",
    "                                              labels=['4-8', '8-12', '12-16', '16-20', '20-24', '24-28', '28+'])\n",
    "m5_df['dir_binned'] = pd.cut(m5_df['WindDirection (degrees true)'], bins_dir, labels=bins_dir_labels)\n",
    "\n",
    "# new df for only necessary columns\n",
    "df_simplfied = m5_df[['Wind Speed Category (knots)', 'dir_binned']].copy()\n",
    "\n",
    "# Group Wind Speed and Direction and calculate frequency of them occurring\n",
    "df_grouped = df_simplfied.groupby(['Wind Speed Category (knots)','dir_binned']).size().reset_index(name=\"frequency\") # grouping\n",
    "df_grouped.reset_index(inplace=True) \n",
    "df_grouped['percentage'] = df_grouped['frequency']/df_grouped['frequency'].sum()\n",
    "df_grouped['percentage%'] = df_grouped['percentage']*100\n",
    "df_grouped = df_grouped.replace(r'North', 'N', regex=True)\n",
    "\n",
    "fig = px.bar_polar(df_grouped, r=\"percentage%\", theta=\"dir_binned\",\n",
    "                   color=\"Wind Speed Category (knots)\", template=\"plotly_dark\",\n",
    "                   color_discrete_sequence= px.colors.sequential.Plasma_r,\n",
    "                  title='Wind Speed and Direction in the Celtic Sea using M5 weather buoy')\n",
    "fig.update_layout(polar_radialaxis_showticklabels=False)\n",
    "fig.show()\n",
    "fig.write_image('../content/day15_wind_roseplot.png')"
   ]
  },
  {
   "cell_type": "code",
   "execution_count": null,
   "id": "a88ce1ed",
   "metadata": {},
   "outputs": [],
   "source": []
  }
 ],
 "metadata": {
  "kernelspec": {
   "display_name": "Python 3 (ipykernel)",
   "language": "python",
   "name": "python3"
  },
  "language_info": {
   "codemirror_mode": {
    "name": "ipython",
    "version": 3
   },
   "file_extension": ".py",
   "mimetype": "text/x-python",
   "name": "python",
   "nbconvert_exporter": "python",
   "pygments_lexer": "ipython3",
   "version": "3.8.0"
  }
 },
 "nbformat": 4,
 "nbformat_minor": 5
}
